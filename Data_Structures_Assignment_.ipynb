{
  "nbformat": 4,
  "nbformat_minor": 0,
  "metadata": {
    "colab": {
      "provenance": []
    },
    "kernelspec": {
      "name": "python3",
      "display_name": "Python 3"
    },
    "language_info": {
      "name": "python"
    }
  },
  "cells": [
    {
      "cell_type": "markdown",
      "source": [
        "# ***DATA STRUCTURES ASSIGNMENT***\n",
        "\n"
      ],
      "metadata": {
        "id": "9q4pVULtcKVb"
      }
    },
    {
      "cell_type": "markdown",
      "source": [
        "# **Data Types and Structures Questions**"
      ],
      "metadata": {
        "id": "79vBHRzbRyWv"
      }
    },
    {
      "cell_type": "markdown",
      "source": [
        "**1. What are data structures, and why are they important?**\n",
        "\n",
        "Data structures are organized ways to store and manage data in a program. They're important because they help us handle data efficiently, making it easier to perform tasks like searching, sorting, and updating information. Without proper data structures, even simple programs can become messy and slow.\n",
        "\n"
      ],
      "metadata": {
        "id": "eX2gO_DwSHeb"
      }
    },
    {
      "cell_type": "markdown",
      "source": [
        "**2. Difference between mutable and immutable data types (with examples):**\n",
        "\n",
        "**Mutable:** These can be changed after creation.\n",
        "**➤ Example:** Lists"
      ],
      "metadata": {
        "id": "UqsWGvSNSH2i"
      }
    },
    {
      "cell_type": "code",
      "source": [
        "my_list = [1, 2, 3]\n",
        "my_list[0] = 100  # Allowed\n",
        "my_list\n"
      ],
      "metadata": {
        "colab": {
          "base_uri": "https://localhost:8080/"
        },
        "id": "6snkXVrISo75",
        "outputId": "515b60f1-ea67-43cc-a388-1ca7f811a119"
      },
      "execution_count": 60,
      "outputs": [
        {
          "output_type": "execute_result",
          "data": {
            "text/plain": [
              "[100, 2, 3]"
            ]
          },
          "metadata": {},
          "execution_count": 60
        }
      ]
    },
    {
      "cell_type": "markdown",
      "source": [
        "**Immutable:** These cannot be changed once created.\n",
        "**➤ Example:** Tuples, Strings"
      ],
      "metadata": {
        "id": "7Voh4wyQSH5W"
      }
    },
    {
      "cell_type": "code",
      "source": [
        "my_tuple = (1, 2, 3)\n",
        "# my_tuple[0] = 100  # Error\n",
        "\n"
      ],
      "metadata": {
        "id": "4D1Xy-yETBJi"
      },
      "execution_count": 61,
      "outputs": []
    },
    {
      "cell_type": "markdown",
      "source": [
        "**3. Main differences between lists and tuples:**\n",
        "\n",
        "**Feature - List\t-Tuple,**\n",
        "\n",
        "Mutable\t  -Yes\t   -No\n",
        "\n",
        "Syntax-\t[]\t-()\n",
        "\n",
        "Performance\t-Slower\t-Faster\n",
        "\n",
        "Use Case-\tDynamic data-\tFixed data"
      ],
      "metadata": {
        "id": "I-U3LbRASH9E"
      }
    },
    {
      "cell_type": "markdown",
      "source": [
        "**4. How dictionaries store data:**\n",
        "\n",
        "Dictionaries store data in key-value pairs. Each key is unique and points to a specific value. Internally, they use a hash table, which allows fast lookups.\n",
        "**Example:**"
      ],
      "metadata": {
        "id": "-Hc8kxOmSyBO"
      }
    },
    {
      "cell_type": "code",
      "source": [
        "student = {\"name\": \" KT Dhanush\", \"age\": 20}\n"
      ],
      "metadata": {
        "id": "Fcz3_PmBUOhZ"
      },
      "execution_count": 62,
      "outputs": []
    },
    {
      "cell_type": "markdown",
      "source": [
        "5. **Why use a set instead of a list?**\n",
        "\n",
        "Use a set when\n",
        "\n",
        "*   You don’t want duplicates\n",
        "*   You need fast membership checking\n",
        "\n",
        "**Example:**"
      ],
      "metadata": {
        "id": "UVlAN81iSICi"
      }
    },
    {
      "cell_type": "code",
      "source": [
        "my_set = {1, 2, 3, 3}  # Result: {1, 2, 3}\n",
        "my_set"
      ],
      "metadata": {
        "colab": {
          "base_uri": "https://localhost:8080/"
        },
        "id": "H_pmtFmVVFr5",
        "outputId": "c85b5aba-15fe-4004-b95b-ca09e159828d"
      },
      "execution_count": 63,
      "outputs": [
        {
          "output_type": "execute_result",
          "data": {
            "text/plain": [
              "{1, 2, 3}"
            ]
          },
          "metadata": {},
          "execution_count": 63
        }
      ]
    },
    {
      "cell_type": "markdown",
      "source": [
        "**6. What is a string in Python, and how is it different from a list?**\n",
        "\n",
        "A string is a sequence of characters. Unlike lists, strings are immutable, which means you can’t change a single character in place. Lists can hold any data type and are mutable.\n",
        "Example:"
      ],
      "metadata": {
        "id": "roJnr35HSIFZ"
      }
    },
    {
      "cell_type": "code",
      "source": [
        "text = \"hello\"\n",
        "# text[0] = \"H\"  # Not allowed\n"
      ],
      "metadata": {
        "id": "Wq4Pp_yQWS07"
      },
      "execution_count": 64,
      "outputs": []
    },
    {
      "cell_type": "markdown",
      "source": [
        "**7. How do tuples ensure data integrity?**\n",
        "\n",
        "Tuples are immutable, so once you create them, the data inside can’t be changed. This makes them great for storing constant data, like coordinates or configuration values, where accidental changes should be avoided.\n",
        "\n"
      ],
      "metadata": {
        "id": "jsPEZDA0SIH_"
      }
    },
    {
      "cell_type": "markdown",
      "source": [
        "**8. What is a hash table, and how is it related to dictionaries?**\n",
        "\n",
        "A hash table is a data structure that maps keys to values using a hashing function. In Python, dictionaries are implemented using hash tables. This is what allows them to access data in constant time (O(1))"
      ],
      "metadata": {
        "id": "tT8sW0cfSIK7"
      }
    },
    {
      "cell_type": "markdown",
      "source": [
        "**9. Can lists contain different data types in Python?**\n",
        "\n",
        "Yes, Python lists can hold mixed data types.\n",
        "Example:\n",
        "\n",
        "This is one reason Python is called dynamically typed."
      ],
      "metadata": {
        "id": "GAkm-4uASISa"
      }
    },
    {
      "cell_type": "code",
      "source": [
        "mixed_list = [1, \"hello\", 3.14, True]\n"
      ],
      "metadata": {
        "id": "PQfAoEg_Wg_g"
      },
      "execution_count": 65,
      "outputs": []
    },
    {
      "cell_type": "markdown",
      "source": [
        "**10. Why are strings immutable in Python?**\n",
        "\n",
        "Strings are immutable to:\n",
        "\n",
        ">Make them safe for use as keys in dictionaries\n",
        "\n",
        ">Improve performance by saving memory\n",
        "\n",
        ">Avoid accidental data modification\n",
        "\n"
      ],
      "metadata": {
        "id": "Vtv8I9dCSIVj"
      }
    },
    {
      "cell_type": "markdown",
      "source": [
        "**11. Advantages of dictionaries over lists:**\n",
        "\n",
        "Faster lookup using keys\n",
        "\n",
        "Organized data via key-value pairs\n",
        "\n",
        "Better for storing structured data\n",
        "Example: Retrieving a name by ID is easier in a dictionary than searching a list."
      ],
      "metadata": {
        "id": "cb8CwJMASIY5"
      }
    },
    {
      "cell_type": "markdown",
      "source": [
        "**12. When to use a tuple instead of a list?**\n",
        "\n",
        "Use a tuple when:\n",
        "\n",
        "Data shouldn't change\n",
        "\n",
        "You want faster performance\n",
        "\n",
        "You need hashable data\n",
        "\n"
      ],
      "metadata": {
        "id": "cGnk0NhdSIbg"
      }
    },
    {
      "cell_type": "markdown",
      "source": [
        "**13. How do sets handle duplicate values?**\n",
        "\n",
        "Sets automatically ignore duplicates.\n"
      ],
      "metadata": {
        "id": "k7rON1i3SIeY"
      }
    },
    {
      "cell_type": "code",
      "source": [
        "s = {1, 2, 2, 3}\n",
        "print(s)  # Output: {1, 2, 3}\n"
      ],
      "metadata": {
        "colab": {
          "base_uri": "https://localhost:8080/"
        },
        "id": "1bRVV_A5XNH9",
        "outputId": "a6e0ee79-caec-4f0d-acec-601a54a671be"
      },
      "execution_count": 66,
      "outputs": [
        {
          "output_type": "stream",
          "name": "stdout",
          "text": [
            "{1, 2, 3}\n"
          ]
        }
      ]
    },
    {
      "cell_type": "markdown",
      "source": [
        "**14. “in” keyword for lists vs. dictionaries:**\n",
        "\n",
        "List: Checks if an element exists in the list.\n",
        "\n",
        "Dictionary: Checks if a key exists (not the value).\n",
        "Example:\n"
      ],
      "metadata": {
        "id": "_wxPY0xjSIhM"
      }
    },
    {
      "cell_type": "code",
      "source": [
        "my_dict = {\"name\": \"DJ\", \"age\":20}\n",
        "my_list = [1, 2, 3, 4]"
      ],
      "metadata": {
        "id": "k1MwyxGNXuo6"
      },
      "execution_count": 67,
      "outputs": []
    },
    {
      "cell_type": "markdown",
      "source": [
        "**15. Can you modify tuple elements? Why or why not?**\n",
        "\n",
        "Nope. Tuples are immutable, so you can’t change their content.\n",
        "If you try:\n"
      ],
      "metadata": {
        "id": "wZkMvRsUSIkm"
      }
    },
    {
      "cell_type": "code",
      "source": [
        "t = (1, 2, 3)\n",
        "t[0] = 10  # Error\n"
      ],
      "metadata": {
        "colab": {
          "base_uri": "https://localhost:8080/",
          "height": 159
        },
        "id": "5QYhvF7uYDfq",
        "outputId": "c39b3047-d881-4d21-f885-9f0373a56e0c"
      },
      "execution_count": 68,
      "outputs": [
        {
          "output_type": "error",
          "ename": "TypeError",
          "evalue": "'tuple' object does not support item assignment",
          "traceback": [
            "\u001b[0;31m---------------------------------------------------------------------------\u001b[0m",
            "\u001b[0;31mTypeError\u001b[0m                                 Traceback (most recent call last)",
            "\u001b[0;32m<ipython-input-68-1827623819>\u001b[0m in \u001b[0;36m<cell line: 0>\u001b[0;34m()\u001b[0m\n\u001b[1;32m      1\u001b[0m \u001b[0mt\u001b[0m \u001b[0;34m=\u001b[0m \u001b[0;34m(\u001b[0m\u001b[0;36m1\u001b[0m\u001b[0;34m,\u001b[0m \u001b[0;36m2\u001b[0m\u001b[0;34m,\u001b[0m \u001b[0;36m3\u001b[0m\u001b[0;34m)\u001b[0m\u001b[0;34m\u001b[0m\u001b[0;34m\u001b[0m\u001b[0m\n\u001b[0;32m----> 2\u001b[0;31m \u001b[0mt\u001b[0m\u001b[0;34m[\u001b[0m\u001b[0;36m0\u001b[0m\u001b[0;34m]\u001b[0m \u001b[0;34m=\u001b[0m \u001b[0;36m10\u001b[0m  \u001b[0;31m# Error\u001b[0m\u001b[0;34m\u001b[0m\u001b[0;34m\u001b[0m\u001b[0m\n\u001b[0m",
            "\u001b[0;31mTypeError\u001b[0m: 'tuple' object does not support item assignment"
          ]
        }
      ]
    },
    {
      "cell_type": "markdown",
      "source": [
        "**16. What is a nested dictionary? Example use case:**\n",
        "\n",
        "A nested dictionary is a dictionary within another dictionary.\n",
        "Example:\n",
        "\n",
        "\n",
        "✅ Use case: Storing student records, employee data, etc.\n",
        "\n"
      ],
      "metadata": {
        "id": "GqV-y5o6V-P8"
      }
    },
    {
      "cell_type": "code",
      "source": [
        "students = {\n",
        "    \"101\": {\"name\": \"Dhanush\", \"age\": 19},\n",
        "    \"102\": {\"name\": \"Arjun\", \"age\": 20}\n",
        "}\n"
      ],
      "metadata": {
        "id": "QrLw8W7BYQZx"
      },
      "execution_count": 69,
      "outputs": []
    },
    {
      "cell_type": "markdown",
      "source": [
        "**17. Time complexity of accessing elements in a dictionary:**\n",
        "\n",
        "\n",
        "Accessing values in a dictionary is O(1) (constant time) thanks to the hash table mechanism. So it's super fast, even with large amounts of data.\n",
        "\n"
      ],
      "metadata": {
        "id": "ncXFAEJ-V-zp"
      }
    },
    {
      "cell_type": "markdown",
      "source": [
        "**18. When are lists preferred over dictionaries?**\n",
        "\n",
        "Use lists when:\n",
        "\n",
        "The order of elements matters\n",
        "\n",
        "You just need a sequence of values\n",
        "\n",
        "You don’t need key-value mapping"
      ],
      "metadata": {
        "id": "TSZ8_c2KV-52"
      }
    },
    {
      "cell_type": "markdown",
      "source": [
        "**19. Why are dictionaries considered unordered? How does it affect retrieval?**\n",
        "\n",
        "Earlier in Python (<3.6), dictionaries didn’t preserve order. From Python 3.7+, they do maintain insertion order.\n",
        "But logically, they're still treated as unordered because:\n",
        "\n",
        "You shouldn't rely on position\n",
        "\n",
        "Retrieval is by key, not by index"
      ],
      "metadata": {
        "id": "4EEnHEZ_V--e"
      }
    },
    {
      "cell_type": "markdown",
      "source": [
        "**20. Difference between list and dictionary in data retrieval:**\n",
        "\n",
        "**List:** Use index to access items → my_list[2]\n",
        "\n",
        "**Dictionary**: Use key to access values → my_dict[\"name\"]\n",
        "Dictionaries are better for named data, lists for sequences.\n",
        "\n"
      ],
      "metadata": {
        "id": "UrM8AzqFV_Ds"
      }
    },
    {
      "cell_type": "markdown",
      "source": [],
      "metadata": {
        "id": "aoyQc69qV_Jg"
      }
    },
    {
      "cell_type": "markdown",
      "source": [
        "## **Practical Questions**"
      ],
      "metadata": {
        "id": "yyqaPjpKV_NI"
      }
    },
    {
      "cell_type": "markdown",
      "source": [],
      "metadata": {
        "id": "tKNOoli1V_TJ"
      }
    },
    {
      "cell_type": "code",
      "source": [
        "# 1. Create a string with your name and print it\n",
        "name = \"KT Dhanush\"\n",
        "print(name)"
      ],
      "metadata": {
        "colab": {
          "base_uri": "https://localhost:8080/"
        },
        "id": "NoD14BxnZB8a",
        "outputId": "fdf8c6e4-c290-441e-9553-97c7acea37b7"
      },
      "execution_count": 70,
      "outputs": [
        {
          "output_type": "stream",
          "name": "stdout",
          "text": [
            "KT Dhanush\n"
          ]
        }
      ]
    },
    {
      "cell_type": "code",
      "source": [
        "# 2. Find the length of the string \"Hello World\"\n",
        "print(len(\"Hello World\"))"
      ],
      "metadata": {
        "colab": {
          "base_uri": "https://localhost:8080/"
        },
        "id": "1mxYfuqBZCEG",
        "outputId": "6dc6a5f3-b795-46ac-b96f-f8ca1212c5ed"
      },
      "execution_count": 71,
      "outputs": [
        {
          "output_type": "stream",
          "name": "stdout",
          "text": [
            "11\n"
          ]
        }
      ]
    },
    {
      "cell_type": "code",
      "source": [
        "# 3. Slice the first 3 characters from the string \"Python Programming\"\n",
        "text = \"Python Programming\"\n",
        "print(text[:3])"
      ],
      "metadata": {
        "colab": {
          "base_uri": "https://localhost:8080/"
        },
        "id": "75qv-x5tZCKW",
        "outputId": "37950813-36e5-49c4-a149-f2676f2b7bbb"
      },
      "execution_count": 72,
      "outputs": [
        {
          "output_type": "stream",
          "name": "stdout",
          "text": [
            "Pyt\n"
          ]
        }
      ]
    },
    {
      "cell_type": "code",
      "source": [
        "# 4. Convert the string \"hello\" to uppercase\n",
        "word = \"hello\"\n",
        "print(word.upper())"
      ],
      "metadata": {
        "colab": {
          "base_uri": "https://localhost:8080/"
        },
        "id": "UXGUELLhZCQE",
        "outputId": "a846559c-b3ee-46c2-f8e1-1b3a8e2513ed"
      },
      "execution_count": 73,
      "outputs": [
        {
          "output_type": "stream",
          "name": "stdout",
          "text": [
            "HELLO\n"
          ]
        }
      ]
    },
    {
      "cell_type": "code",
      "source": [
        "# 5. Replace the word \"apple\" with \"orange\" in the string \"I like apple\"\n",
        "sentence = \"I like apple\"\n",
        "print(sentence.replace(\"apple\", \"orange\"))"
      ],
      "metadata": {
        "colab": {
          "base_uri": "https://localhost:8080/"
        },
        "id": "DQ1k4hAUZCVT",
        "outputId": "f7312b06-19b4-4bae-bd02-3f8d12d097da"
      },
      "execution_count": 74,
      "outputs": [
        {
          "output_type": "stream",
          "name": "stdout",
          "text": [
            "I like orange\n"
          ]
        }
      ]
    },
    {
      "cell_type": "code",
      "source": [
        "# 6. Create a list with numbers 1 to 5 and print it\n",
        "numbers = [1, 2, 3, 4, 5]\n",
        "print(numbers)"
      ],
      "metadata": {
        "colab": {
          "base_uri": "https://localhost:8080/"
        },
        "id": "twiPZ1WlZCbW",
        "outputId": "0d9941d8-6bc7-42a0-a26a-c8cd4cbc6716"
      },
      "execution_count": 76,
      "outputs": [
        {
          "output_type": "stream",
          "name": "stdout",
          "text": [
            "[1, 2, 3, 4, 5]\n"
          ]
        }
      ]
    },
    {
      "cell_type": "code",
      "source": [
        "\n",
        "# 7. Append the number 10 to the list [1, 2, 3, 4]\n",
        "my_list = [1, 2, 3, 4]\n",
        "my_list.append(10)\n",
        "print(my_list)"
      ],
      "metadata": {
        "colab": {
          "base_uri": "https://localhost:8080/"
        },
        "id": "BAXKVFqfZCgg",
        "outputId": "88dd5fe7-bdd6-4579-9dc1-778f6fd41410"
      },
      "execution_count": 77,
      "outputs": [
        {
          "output_type": "stream",
          "name": "stdout",
          "text": [
            "[1, 2, 3, 4, 10]\n"
          ]
        }
      ]
    },
    {
      "cell_type": "code",
      "source": [
        "# 8. Remove the number 3 from the list [1, 2, 3, 4, 5]\n",
        "nums = [1, 2, 3, 4, 5]\n",
        "nums.remove(3)\n",
        "print(nums)"
      ],
      "metadata": {
        "colab": {
          "base_uri": "https://localhost:8080/"
        },
        "id": "xHTs9lFOZCkb",
        "outputId": "537b0264-e482-4cda-b8f7-1ef558a72bbc"
      },
      "execution_count": 78,
      "outputs": [
        {
          "output_type": "stream",
          "name": "stdout",
          "text": [
            "[1, 2, 4, 5]\n"
          ]
        }
      ]
    },
    {
      "cell_type": "code",
      "source": [
        "# 9. Access the second element in the list ['a', 'b', 'c', 'd']\n",
        "letters = ['a', 'b', 'c', 'd']\n",
        "print(letters[1])\n"
      ],
      "metadata": {
        "colab": {
          "base_uri": "https://localhost:8080/"
        },
        "id": "Dn27eaQWZCpI",
        "outputId": "1d5b7233-adfb-4df1-ad37-2752e2ef0f20"
      },
      "execution_count": 80,
      "outputs": [
        {
          "output_type": "stream",
          "name": "stdout",
          "text": [
            "b\n"
          ]
        }
      ]
    },
    {
      "cell_type": "code",
      "source": [
        "# 10. Reverse the list [10, 20, 30, 40, 50]\n",
        "values = [10, 20, 30, 40, 50]\n",
        "values.reverse()\n",
        "print(values)"
      ],
      "metadata": {
        "colab": {
          "base_uri": "https://localhost:8080/"
        },
        "id": "l3rC8DDpZCuc",
        "outputId": "008af206-7bb1-489e-d946-8e0f6d6b95cd"
      },
      "execution_count": 81,
      "outputs": [
        {
          "output_type": "stream",
          "name": "stdout",
          "text": [
            "[50, 40, 30, 20, 10]\n"
          ]
        }
      ]
    },
    {
      "cell_type": "code",
      "source": [
        "# 11. Create a tuple with the elements 100, 200, 300 and print it\n",
        "my_tuple = (100, 200, 300)\n",
        "print(my_tuple)\n"
      ],
      "metadata": {
        "colab": {
          "base_uri": "https://localhost:8080/"
        },
        "id": "XKtttJWDZCz1",
        "outputId": "ed4b5adf-e9ce-4633-89ca-9a2668aa2534"
      },
      "execution_count": 82,
      "outputs": [
        {
          "output_type": "stream",
          "name": "stdout",
          "text": [
            "(100, 200, 300)\n"
          ]
        }
      ]
    },
    {
      "cell_type": "code",
      "source": [
        "# 12. Access the second-to-last element of the tuple\n",
        "colors = ('red', 'green', 'blue', 'yellow')\n",
        "print(colors[-2])"
      ],
      "metadata": {
        "colab": {
          "base_uri": "https://localhost:8080/"
        },
        "id": "5_8cCyEGZC6r",
        "outputId": "7f86a7ec-66e0-49f1-b707-eadc277c16b9"
      },
      "execution_count": 83,
      "outputs": [
        {
          "output_type": "stream",
          "name": "stdout",
          "text": [
            "blue\n"
          ]
        }
      ]
    },
    {
      "cell_type": "code",
      "source": [
        "\n",
        "# 13. Find the minimum number in the tuple\n",
        "numbers = (10, 20, 5, 15)\n",
        "print(min(numbers))"
      ],
      "metadata": {
        "colab": {
          "base_uri": "https://localhost:8080/"
        },
        "id": "nXB0069UZDAR",
        "outputId": "c84c1e62-c6b2-4202-a8b2-3e49f75291e8"
      },
      "execution_count": 84,
      "outputs": [
        {
          "output_type": "stream",
          "name": "stdout",
          "text": [
            "5\n"
          ]
        }
      ]
    },
    {
      "cell_type": "code",
      "source": [
        "# 14. Find the index of the element \"cat\" in the tuple\n",
        "animals = ('dog', 'cat', 'rabbit')\n",
        "print(animals.index(\"cat\"))"
      ],
      "metadata": {
        "colab": {
          "base_uri": "https://localhost:8080/"
        },
        "id": "umavAhaTZDD_",
        "outputId": "efa26aca-d6cf-44c4-f4b7-567d2d7626ff"
      },
      "execution_count": 85,
      "outputs": [
        {
          "output_type": "stream",
          "name": "stdout",
          "text": [
            "1\n"
          ]
        }
      ]
    },
    {
      "cell_type": "code",
      "source": [
        "# 15. Create a tuple of fruits and check if \"kiwi\" is in it\n",
        "fruits = (\"apple\", \"banana\", \"mango\")\n",
        "print(\"kiwi\" in fruits)"
      ],
      "metadata": {
        "colab": {
          "base_uri": "https://localhost:8080/"
        },
        "id": "5OlMgAqhZDIv",
        "outputId": "ea4c8fff-5471-49a0-e454-44fdf14bd37b"
      },
      "execution_count": 86,
      "outputs": [
        {
          "output_type": "stream",
          "name": "stdout",
          "text": [
            "False\n"
          ]
        }
      ]
    },
    {
      "cell_type": "code",
      "source": [
        "# 16. Create a set with the elements 'a', 'b', 'c' and print it\n",
        "my_set = {'a', 'b', 'c'}\n",
        "print(my_set)"
      ],
      "metadata": {
        "colab": {
          "base_uri": "https://localhost:8080/"
        },
        "id": "jmcE0TfTZDOn",
        "outputId": "dba40475-2ccd-406b-b8e4-afbcfbc652c1"
      },
      "execution_count": 87,
      "outputs": [
        {
          "output_type": "stream",
          "name": "stdout",
          "text": [
            "{'a', 'c', 'b'}\n"
          ]
        }
      ]
    },
    {
      "cell_type": "code",
      "source": [
        "# 17. Clear all elements from the set {1, 2, 3, 4, 5}\n",
        "my_set = {1, 2, 3, 4, 5}\n",
        "my_set.clear()\n",
        "print(my_set)"
      ],
      "metadata": {
        "colab": {
          "base_uri": "https://localhost:8080/"
        },
        "id": "9LsTfDX9ZDWl",
        "outputId": "a19448f2-926a-4385-c5aa-9efcd033baba"
      },
      "execution_count": 88,
      "outputs": [
        {
          "output_type": "stream",
          "name": "stdout",
          "text": [
            "set()\n"
          ]
        }
      ]
    },
    {
      "cell_type": "code",
      "source": [
        "# 18. Remove the element 4 from the set\n",
        "my_set = {1, 2, 3, 4}\n",
        "my_set.remove(4)\n",
        "print(my_set)"
      ],
      "metadata": {
        "colab": {
          "base_uri": "https://localhost:8080/"
        },
        "id": "IAYj42hQZDfH",
        "outputId": "4f71e1be-2c57-4a99-fabc-d938cceeb450"
      },
      "execution_count": 89,
      "outputs": [
        {
          "output_type": "stream",
          "name": "stdout",
          "text": [
            "{1, 2, 3}\n"
          ]
        }
      ]
    },
    {
      "cell_type": "code",
      "source": [
        "# 19. Find the union of two sets\n",
        "set1 = {1, 2, 3}\n",
        "set2 = {3, 4, 5}\n",
        "print(set1.union(set2))"
      ],
      "metadata": {
        "colab": {
          "base_uri": "https://localhost:8080/"
        },
        "id": "oc0tcw9XZDma",
        "outputId": "c4e0b238-f7d2-4c2e-ee1f-314359a0b38b"
      },
      "execution_count": 90,
      "outputs": [
        {
          "output_type": "stream",
          "name": "stdout",
          "text": [
            "{1, 2, 3, 4, 5}\n"
          ]
        }
      ]
    },
    {
      "cell_type": "code",
      "source": [
        "# 20. Find the intersection of two sets\n",
        "set1 = {1, 2, 3}\n",
        "set2 = {3, 4, 5}\n",
        "print(set1.intersection(set2))"
      ],
      "metadata": {
        "colab": {
          "base_uri": "https://localhost:8080/"
        },
        "id": "reMz17I-ZDsR",
        "outputId": "7619212e-b403-4089-ae99-13f977477f54"
      },
      "execution_count": 91,
      "outputs": [
        {
          "output_type": "stream",
          "name": "stdout",
          "text": [
            "{3}\n"
          ]
        }
      ]
    },
    {
      "cell_type": "code",
      "source": [
        "# 21. Create a dictionary with keys \"name\", \"age\", and \"city\" and print it\n",
        "details = {\"name\": \" KT Dhanush\", \"age\": 20, \"city\": \"Katpadi\"}\n",
        "print(details)"
      ],
      "metadata": {
        "colab": {
          "base_uri": "https://localhost:8080/"
        },
        "id": "76h94rHaZDxe",
        "outputId": "9d5d78c2-18f3-4b80-874d-b42b987f0102"
      },
      "execution_count": 92,
      "outputs": [
        {
          "output_type": "stream",
          "name": "stdout",
          "text": [
            "{'name': ' KT Dhanush', 'age': 20, 'city': 'Katpadi'}\n"
          ]
        }
      ]
    },
    {
      "cell_type": "code",
      "source": [
        "# 22. Add a new key-value pair to dictionary\n",
        "person = {'name': 'John', 'age': 25}\n",
        "person[\"country\"] = \"USA\"\n",
        "print(person)"
      ],
      "metadata": {
        "colab": {
          "base_uri": "https://localhost:8080/"
        },
        "id": "NhQEaE0vZD2d",
        "outputId": "eb1e630b-d087-46c9-f65e-635a812be6b4"
      },
      "execution_count": 93,
      "outputs": [
        {
          "output_type": "stream",
          "name": "stdout",
          "text": [
            "{'name': 'John', 'age': 25, 'country': 'USA'}\n"
          ]
        }
      ]
    },
    {
      "cell_type": "code",
      "source": [
        "\n",
        "# 23. Access the value associated with the key \"name\"\n",
        "info = {'name': 'Alice', 'age': 30}\n",
        "print(info[\"name\"])\n"
      ],
      "metadata": {
        "colab": {
          "base_uri": "https://localhost:8080/"
        },
        "id": "YDY_2kAaZD8a",
        "outputId": "6025000d-71c0-4330-92c9-bb93fa8cf3eb"
      },
      "execution_count": 94,
      "outputs": [
        {
          "output_type": "stream",
          "name": "stdout",
          "text": [
            "Alice\n"
          ]
        }
      ]
    },
    {
      "cell_type": "code",
      "source": [
        "# 24. Remove the key \"age\" from dictionary\n",
        "data = {'name': 'Bob', 'age': 22, 'city': 'New York'}\n",
        "del data[\"age\"]\n",
        "print(data)"
      ],
      "metadata": {
        "colab": {
          "base_uri": "https://localhost:8080/"
        },
        "id": "ONNCgnvcZEBi",
        "outputId": "c2dba3f1-ab8c-473f-c0b3-02ec0721ef82"
      },
      "execution_count": 95,
      "outputs": [
        {
          "output_type": "stream",
          "name": "stdout",
          "text": [
            "{'name': 'Bob', 'city': 'New York'}\n"
          ]
        }
      ]
    },
    {
      "cell_type": "code",
      "source": [
        "# 25. Check if the key \"city\" exists in the dictionary\n",
        "d = {'name': 'Alice', 'city': 'Paris'}\n",
        "print(\"city\" in d)"
      ],
      "metadata": {
        "colab": {
          "base_uri": "https://localhost:8080/"
        },
        "id": "13Wj4l9sZEFf",
        "outputId": "54fa26e9-88bd-42bc-c722-0c9a81d8e5c7"
      },
      "execution_count": 96,
      "outputs": [
        {
          "output_type": "stream",
          "name": "stdout",
          "text": [
            "True\n"
          ]
        }
      ]
    },
    {
      "cell_type": "code",
      "source": [
        "# 26. Create a list, a tuple, and a dictionary, and print them\n",
        "my_list = [1, 2, 3]\n",
        "my_tuple = (4, 5, 6)\n",
        "my_dict = {\"a\": 1, \"b\": 2}\n",
        "print(my_list)\n",
        "print(my_tuple)\n",
        "print(my_dict)"
      ],
      "metadata": {
        "colab": {
          "base_uri": "https://localhost:8080/"
        },
        "id": "87RrBtCnZEKc",
        "outputId": "c4770956-da13-4231-ec2b-74178b7cfa43"
      },
      "execution_count": 97,
      "outputs": [
        {
          "output_type": "stream",
          "name": "stdout",
          "text": [
            "[1, 2, 3]\n",
            "(4, 5, 6)\n",
            "{'a': 1, 'b': 2}\n"
          ]
        }
      ]
    },
    {
      "cell_type": "code",
      "source": [
        "# 27. Create a list of 5 random numbers between 1 and 100, sort and print\n",
        "import random\n",
        "rand_list = random.sample(range(1, 101), 5)\n",
        "rand_list.sort()\n",
        "print(rand_list)"
      ],
      "metadata": {
        "colab": {
          "base_uri": "https://localhost:8080/"
        },
        "id": "yZ9oYGQOZEPN",
        "outputId": "c936d1b5-fbe6-483f-bac1-44402e42fd53"
      },
      "execution_count": 98,
      "outputs": [
        {
          "output_type": "stream",
          "name": "stdout",
          "text": [
            "[2, 21, 23, 74, 98]\n"
          ]
        }
      ]
    },
    {
      "cell_type": "code",
      "source": [
        "# 28. Create a list with strings and print the element at the third index\n",
        "words = [\"apple\", \"banana\", \"cherry\", \"date\", \"elderberry\"]\n",
        "print(words[3])"
      ],
      "metadata": {
        "colab": {
          "base_uri": "https://localhost:8080/"
        },
        "id": "PSCG7PccbXaI",
        "outputId": "9ed87f77-e144-4ea8-d101-7214f6d955b2"
      },
      "execution_count": 99,
      "outputs": [
        {
          "output_type": "stream",
          "name": "stdout",
          "text": [
            "date\n"
          ]
        }
      ]
    },
    {
      "cell_type": "code",
      "source": [
        "# 29. Combine two dictionaries and print result\n",
        "dict1 = {\"a\": 1, \"b\": 2}\n",
        "dict2 = {\"c\": 3, \"d\": 4}\n",
        "combined = {**dict1, **dict2}\n",
        "print(combined)"
      ],
      "metadata": {
        "colab": {
          "base_uri": "https://localhost:8080/"
        },
        "id": "Q1T_kYbubXjr",
        "outputId": "5acb8aee-3674-4a31-e98a-d4a48e10a17f"
      },
      "execution_count": 100,
      "outputs": [
        {
          "output_type": "stream",
          "name": "stdout",
          "text": [
            "{'a': 1, 'b': 2, 'c': 3, 'd': 4}\n"
          ]
        }
      ]
    },
    {
      "cell_type": "code",
      "source": [
        "# 30. Convert a list of strings into a set\n",
        "string_list = [\"apple\", \"banana\", \"apple\", \"cherry\"]\n",
        "string_set = set(string_list)\n",
        "print(string_set)"
      ],
      "metadata": {
        "colab": {
          "base_uri": "https://localhost:8080/"
        },
        "id": "t3db2ImhbXvl",
        "outputId": "f73efd7a-6bb8-4442-af52-797f518de29b"
      },
      "execution_count": 101,
      "outputs": [
        {
          "output_type": "stream",
          "name": "stdout",
          "text": [
            "{'banana', 'apple', 'cherry'}\n"
          ]
        }
      ]
    }
  ]
}